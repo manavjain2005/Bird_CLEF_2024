{
 "cells": [
  {
   "cell_type": "code",
   "execution_count": 1,
   "id": "dda7a703",
   "metadata": {
    "execution": {
     "iopub.execute_input": "2024-06-10T12:43:04.608753Z",
     "iopub.status.busy": "2024-06-10T12:43:04.605349Z",
     "iopub.status.idle": "2024-06-10T12:43:25.271862Z",
     "shell.execute_reply": "2024-06-10T12:43:25.271209Z",
     "shell.execute_reply.started": "2024-06-10T12:41:37.381347Z"
    },
    "papermill": {
     "duration": 20.692408,
     "end_time": "2024-06-10T12:43:25.272067",
     "exception": false,
     "start_time": "2024-06-10T12:43:04.579659",
     "status": "completed"
    },
    "tags": []
   },
   "outputs": [
    {
     "name": "stdout",
     "output_type": "stream",
     "text": [
      "Collecting imutils\r\n",
      "  Downloading imutils-0.5.4.tar.gz (17 kB)\r\n",
      "  Preparing metadata (setup.py) ... \u001b[?25l-\b \bdone\r\n",
      "\u001b[?25hBuilding wheels for collected packages: imutils\r\n",
      "  Building wheel for imutils (setup.py) ... \u001b[?25l-\b \b\\\b \bdone\r\n",
      "\u001b[?25h  Created wheel for imutils: filename=imutils-0.5.4-py3-none-any.whl size=25860 sha256=a2712947335e92147ad21c67beee343e53ab68580b084161452b0513cb1756db\r\n",
      "  Stored in directory: /root/.cache/pip/wheels/86/d7/0a/4923351ed1cec5d5e24c1eaf8905567b02a0343b24aa873df2\r\n",
      "Successfully built imutils\r\n",
      "Installing collected packages: imutils\r\n",
      "Successfully installed imutils-0.5.4\r\n",
      "\u001b[33mWARNING: Running pip as the 'root' user can result in broken permissions and conflicting behaviour with the system package manager. It is recommended to use a virtual environment instead: https://pip.pypa.io/warnings/venv\u001b[0m\r\n",
      "Looking in links: /kaggle/input/tf-efficientnet-whl-files\r\n",
      "Processing /kaggle/input/tf-efficientnet-whl-files/efficientnet-1.1.1-py3-none-any.whl\r\n",
      "Requirement already satisfied: scikit-image in /opt/conda/lib/python3.7/site-packages (from efficientnet==1.1.1) (0.19.1)\r\n",
      "Processing /kaggle/input/tf-efficientnet-whl-files/Keras_Applications-1.0.8-py3-none-any.whl\r\n",
      "Requirement already satisfied: h5py in /opt/conda/lib/python3.7/site-packages (from keras-applications<=1.0.8,>=1.0.7->efficientnet==1.1.1) (3.1.0)\r\n",
      "Requirement already satisfied: numpy>=1.9.1 in /opt/conda/lib/python3.7/site-packages (from keras-applications<=1.0.8,>=1.0.7->efficientnet==1.1.1) (1.20.3)\r\n",
      "Requirement already satisfied: packaging>=20.0 in /opt/conda/lib/python3.7/site-packages (from scikit-image->efficientnet==1.1.1) (21.3)\r\n",
      "Requirement already satisfied: pillow!=7.1.0,!=7.1.1,!=8.3.0,>=6.1.0 in /opt/conda/lib/python3.7/site-packages (from scikit-image->efficientnet==1.1.1) (8.2.0)\r\n",
      "Requirement already satisfied: tifffile>=2019.7.26 in /opt/conda/lib/python3.7/site-packages (from scikit-image->efficientnet==1.1.1) (2021.11.2)\r\n",
      "Requirement already satisfied: scipy>=1.4.1 in /opt/conda/lib/python3.7/site-packages (from scikit-image->efficientnet==1.1.1) (1.7.3)\r\n",
      "Requirement already satisfied: PyWavelets>=1.1.1 in /opt/conda/lib/python3.7/site-packages (from scikit-image->efficientnet==1.1.1) (1.2.0)\r\n",
      "Requirement already satisfied: networkx>=2.2 in /opt/conda/lib/python3.7/site-packages (from scikit-image->efficientnet==1.1.1) (2.6.3)\r\n",
      "Requirement already satisfied: imageio>=2.4.1 in /opt/conda/lib/python3.7/site-packages (from scikit-image->efficientnet==1.1.1) (2.9.0)\r\n",
      "Requirement already satisfied: pyparsing!=3.0.5,>=2.0.2 in /opt/conda/lib/python3.7/site-packages (from packaging>=20.0->scikit-image->efficientnet==1.1.1) (3.0.6)\r\n",
      "Requirement already satisfied: cached-property in /opt/conda/lib/python3.7/site-packages (from h5py->keras-applications<=1.0.8,>=1.0.7->efficientnet==1.1.1) (1.5.2)\r\n",
      "Installing collected packages: keras-applications, efficientnet\r\n",
      "Successfully installed efficientnet-1.1.1 keras-applications-1.0.8\r\n",
      "\u001b[33mWARNING: Running pip as the 'root' user can result in broken permissions and conflicting behaviour with the system package manager. It is recommended to use a virtual environment instead: https://pip.pypa.io/warnings/venv\u001b[0m\r\n"
     ]
    }
   ],
   "source": [
    "! pip install imutils\n",
    "! pip install --no-index --find-links=/kaggle/input/tf-efficientnet-whl-files /kaggle/input/tf-efficientnet-whl-files/efficientnet-1.1.1-py3-none-any.whl"
   ]
  },
  {
   "cell_type": "code",
   "execution_count": 2,
   "id": "a9a4d5fe",
   "metadata": {
    "execution": {
     "iopub.execute_input": "2024-06-10T12:43:25.333703Z",
     "iopub.status.busy": "2024-06-10T12:43:25.333082Z",
     "iopub.status.idle": "2024-06-10T12:43:35.086343Z",
     "shell.execute_reply": "2024-06-10T12:43:35.086899Z",
     "shell.execute_reply.started": "2024-06-10T12:41:58.291260Z"
    },
    "papermill": {
     "duration": 9.790725,
     "end_time": "2024-06-10T12:43:35.087097",
     "exception": false,
     "start_time": "2024-06-10T12:43:25.296372",
     "status": "completed"
    },
    "tags": []
   },
   "outputs": [
    {
     "name": "stdout",
     "output_type": "stream",
     "text": [
      "Tensorflow version :  2.6.2\n"
     ]
    }
   ],
   "source": [
    "# Basic Imports \n",
    "\n",
    "# Model mathematics\n",
    "import math\n",
    "import numpy as np \n",
    "import tensorflow as tf\n",
    "import tensorflow_datasets as tfds\n",
    "from tensorflow.keras.layers import *\n",
    "from tensorflow.keras.models import *\n",
    "import efficientnet.tfkeras as efn\n",
    "import pickle\n",
    "\n",
    "# Plotting libraries\n",
    "import seaborn as sns \n",
    "import matplotlib.pyplot as plt\n",
    "plt.style.use('seaborn')\n",
    "\n",
    "# Utilities\n",
    "import datetime\n",
    "import os,sys\n",
    "import tempfile\n",
    "os.environ['TF_CPP_MIN_LOG_LEVEL'] = '3'\n",
    "sys.path.append(\"/kaggle/input/helper-files\")\n",
    "import random \n",
    "import gc\n",
    "import time\n",
    "import functools\n",
    "from imutils import paths\n",
    "from tqdm import tqdm\n",
    "from typing import Callable\n",
    "\n",
    "\n",
    "# SimCLR Losses (extra files, will be explained further in the notebook)\n",
    "from semi_super_augPipe import preprocess_image\n",
    "from losses import _dot_simililarity_dim1 as sim_func_dim1, _dot_simililarity_dim2 as sim_func_dim2\n",
    "import helpers\n",
    "\n",
    "\n",
    "# Random seed fixation for experiment result repitition\n",
    "tf.random.set_seed(10)\n",
    "np.random.seed(10)\n",
    "\n",
    "print(\"Tensorflow version : \",tf.__version__)\n",
    "\n",
    "# In-order run function decorators in tf2.0\n",
    "tf.config.run_functions_eagerly(False)\n",
    "\n",
    "# Load the TensorBoard notebook extension\n",
    "%load_ext tensorboard"
   ]
  },
  {
   "cell_type": "code",
   "execution_count": 3,
   "id": "fc263be1",
   "metadata": {
    "execution": {
     "iopub.execute_input": "2024-06-10T12:43:35.148578Z",
     "iopub.status.busy": "2024-06-10T12:43:35.142391Z",
     "iopub.status.idle": "2024-06-10T12:43:35.947432Z",
     "shell.execute_reply": "2024-06-10T12:43:35.946850Z",
     "shell.execute_reply.started": "2024-06-10T12:42:08.338834Z"
    },
    "papermill": {
     "duration": 0.836303,
     "end_time": "2024-06-10T12:43:35.947568",
     "exception": false,
     "start_time": "2024-06-10T12:43:35.111265",
     "status": "completed"
    },
    "tags": []
   },
   "outputs": [
    {
     "name": "stdout",
     "output_type": "stream",
     "text": [
      "[(16, 128, 384, 3), (16, 128, 384, 3)]\n"
     ]
    }
   ],
   "source": [
    "import os\n",
    "import numpy as np\n",
    "import tensorflow as tf\n",
    "\n",
    "# Helper functions\n",
    "@tf.function\n",
    "def input_image_loader(image):\n",
    "    image = tf.expand_dims(image, axis=-1)\n",
    "    image = tf.image.grayscale_to_rgb(image)\n",
    "    h, w = tf.shape(image)[0], tf.shape(image)[1]\n",
    "    t = tf.random.uniform(shape=[2], minval=0, maxval=w-384, dtype=tf.int32)\n",
    "    # view 1 & view 2\n",
    "    return image[:, t[0]:t[0]+384], image[:, t[1]:t[1]+384]\n",
    "\n",
    "# Step 1: List all .npy files in the directory\n",
    "directory = '/kaggle/input/spectogram-v-1-bird-clef'\n",
    "npy_files = [os.path.join(directory, f) for f in os.listdir(directory) if f.endswith('.npy')]\n",
    "\n",
    "# Step 2: Create a function to load and preprocess .npy files\n",
    "def load_npy_file(file_path):\n",
    "    npy_data = np.load(file_path.numpy())\n",
    "    tensor = tf.convert_to_tensor(npy_data, dtype=tf.float32)\n",
    "    h, w = tensor.shape\n",
    "    while w <= 1920:\n",
    "        w = w * 2\n",
    "        tensor = tf.concat([tensor, tensor], axis=1)\n",
    "    return tensor[:, :1920]\n",
    "\n",
    "# Wrapper function for tf.py_function\n",
    "def tf_load_npy_file(file_path):\n",
    "    tensor = tf.py_function(func=load_npy_file, inp=[file_path], Tout=tf.float32)\n",
    "    return tensor\n",
    "\n",
    "# Parameters\n",
    "BATCH_SIZE = 16\n",
    "\n",
    "# Step 3: Create a TensorFlow dataset from the list of file paths\n",
    "dataset = tf.data.Dataset.from_tensor_slices(npy_files)\n",
    "\n",
    "# Step 4: Shuffle the dataset\n",
    "dataset_shuffled = dataset.shuffle(len(npy_files))\n",
    "\n",
    "# Step 5: Map the loading function to the dataset\n",
    "dataset_mapped = dataset_shuffled.map(tf_load_npy_file, num_parallel_calls=tf.data.experimental.AUTOTUNE)\n",
    "\n",
    "# Step 6: Apply the image loader function to the dataset\n",
    "dataset_processed = dataset_mapped.map(input_image_loader, num_parallel_calls=tf.data.experimental.AUTOTUNE)\n",
    "\n",
    "# Step 7: Batch the dataset\n",
    "dataset_batched = dataset_processed.batch(BATCH_SIZE, drop_remainder=True)\n",
    "\n",
    "# Step 8: Prefetch for performance\n",
    "final_dataset = dataset_batched.prefetch(tf.data.experimental.AUTOTUNE)\n",
    "\n",
    "# To print a single element, take one element from the dataset\n",
    "for element in final_dataset.take(1):\n",
    "    print([e.numpy().shape for e in element])\n"
   ]
  },
  {
   "cell_type": "code",
   "execution_count": 4,
   "id": "887c2f2f",
   "metadata": {
    "execution": {
     "iopub.execute_input": "2024-06-10T12:43:36.003960Z",
     "iopub.status.busy": "2024-06-10T12:43:36.003369Z",
     "iopub.status.idle": "2024-06-10T12:43:37.003851Z",
     "shell.execute_reply": "2024-06-10T12:43:37.004397Z",
     "shell.execute_reply.started": "2024-06-10T12:42:09.156443Z"
    },
    "papermill": {
     "duration": 1.032561,
     "end_time": "2024-06-10T12:43:37.004561",
     "exception": false,
     "start_time": "2024-06-10T12:43:35.972000",
     "status": "completed"
    },
    "tags": []
   },
   "outputs": [
    {
     "data": {
      "image/png": "[encoded data removed]",
      "text/plain": [
       "<Figure size 504x504 with 4 Axes>"
      ]
     },
     "metadata": {},
     "output_type": "display_data"
    }
   ],
   "source": [
    "for batch in final_dataset.take(1):\n",
    "    pass\n",
    "\n",
    "image_to_viz = 3\n",
    "plt.figure(figsize=(7, 7))\n",
    "ax1 = plt.subplot(2, 2, 1)\n",
    "plt.imshow(batch[0][image_to_viz].numpy().astype('float32'), interpolation = 'none', vmin = 0, vmax = 1)\n",
    "ax1.grid(False)\n",
    "ax2 = plt.subplot(2, 2, 2)\n",
    "plt.imshow(batch[1][image_to_viz].numpy().astype('float32'), interpolation = 'none', vmin = 0, vmax = 1)\n",
    "ax2.grid(False)\n",
    "\n",
    "ax3 = plt.subplot(2, 2, 3)\n",
    "plt.hist(batch[0][image_to_viz].numpy().ravel())\n",
    "ax4 = plt.subplot(2, 2, 4, sharey = ax3, sharex=ax3)\n",
    "plt.hist(batch[1][image_to_viz].numpy().ravel())\n",
    "plt.show()"
   ]
  },
  {
   "cell_type": "code",
   "execution_count": 5,
   "id": "56290a9d",
   "metadata": {
    "execution": {
     "iopub.execute_input": "2024-06-10T12:43:37.073681Z",
     "iopub.status.busy": "2024-06-10T12:43:37.067403Z",
     "iopub.status.idle": "2024-06-10T12:43:37.076133Z",
     "shell.execute_reply": "2024-06-10T12:43:37.075621Z",
     "shell.execute_reply.started": "2024-06-10T12:42:10.084283Z"
    },
    "papermill": {
     "duration": 0.043892,
     "end_time": "2024-06-10T12:43:37.076261",
     "exception": false,
     "start_time": "2024-06-10T12:43:37.032369",
     "status": "completed"
    },
    "tags": []
   },
   "outputs": [],
   "source": [
    "# adding l2 reg\n",
    "def add_regularization(model, regularizer = tf.keras.regularizers.l2(0.0001)):\n",
    "    \"\"\"\n",
    "    Helper function to add l2 regularisation to each layer of a either a preTrained or \n",
    "    randomly initialised built in model\n",
    "    Arguments:\n",
    "        model : (keras.model) input model \n",
    "        regularizer : ( tf.keras.regularizers.l2) object from keras that defines a l2 regularizer\n",
    "    Returns:\n",
    "        model : all layers contain the \"regularizer\" object & incase we pass a pretrained model then the \n",
    "                original weights are preserved\n",
    "    \"\"\"\n",
    "\n",
    "    if not isinstance(regularizer, tf.keras.regularizers.Regularizer):\n",
    "        print(\"Regularizer must be a subclass of tf.keras.regularizers.Regularizer\")\n",
    "        return model\n",
    "\n",
    "    for layer in model.layers:\n",
    "        for attr in ['kernel_regularizer']:\n",
    "            if hasattr(layer, attr):\n",
    "                setattr(layer, attr, regularizer)\n",
    "\n",
    "    # When we change the layers attributes, the change only happens in the model config file\n",
    "    model_json = model.to_json()\n",
    "\n",
    "    # Save the weights before reloading the model.\n",
    "    tmp_weights_path = os.path.join(tempfile.gettempdir(), 'tmp_weights.h5')\n",
    "    model.save_weights(tmp_weights_path)\n",
    "\n",
    "    # load the model from the config\n",
    "    model = tf.keras.models.model_from_json(model_json)\n",
    "    \n",
    "    # Reload the model weights\n",
    "    model.load_weights(tmp_weights_path, by_name=True)\n",
    "    return model\n",
    "\n",
    "# Architecture utils\n",
    "def get_simclr(hidden_1, \n",
    "               hidden_2, \n",
    "               l2_penalty = 10e-6):\n",
    "    \"\"\"\n",
    "    Main function to define the entire network backbone to train\n",
    "    Arguments:\n",
    "        hidden_1-2 : (int) variable to define number of neurons in the projection head dense layer\n",
    "        l2_penalty : (float) to define the amount of l2 penalty applied to each layer's weights\n",
    "    Returns:\n",
    "        final_model : (tf.keras.Model) final model that will be trained \n",
    "    \"\"\"\n",
    "    \n",
    "    # encoder network\n",
    "    base_model = efn.EfficientNetB0(include_top=False, weights=None, input_shape=(128,384,3))\n",
    "    base_model.load_weights('/kaggle/input/tf-efficientnet-imagenet-weights/efficientnet-b0_weights_tf_dim_ordering_tf_kernels_autoaugment_notop.h5')\n",
    "    regularizer = tf.keras.regularizers.l2(l2_penalty)\n",
    "    reg_base_model = add_regularization(base_model,regularizer)\n",
    "    reg_base_model.trainable = True\n",
    "\n",
    "    # Joining the entire pipeline using functional API\n",
    "    inputs = Input((128,384, 3))\n",
    "    h = reg_base_model(inputs, training=True)\n",
    "    h = GlobalAveragePooling2D()(h)\n",
    "    \n",
    "    # Non linear projection layer to improve the quality of embeddings being produced\n",
    "    projection_1 = Dense(hidden_1, kernel_regularizer = regularizer)(h)\n",
    "    projection_1 = tf.keras.layers.BatchNormalization()(projection_1)\n",
    "    projection_1 = Activation(\"relu\")(projection_1)\n",
    "    projection_2 = Dense(hidden_2, kernel_regularizer = regularizer)(projection_1)\n",
    "    projection_2 = tf.keras.layers.BatchNormalization()(projection_2)\n",
    "    projection_2 = Activation(\"relu\")(projection_2)\n",
    "\n",
    "    # Final Model\n",
    "    final_model = Model(inputs, projection_2)\n",
    "    return final_model"
   ]
  },
  {
   "cell_type": "code",
   "execution_count": 6,
   "id": "a823e136",
   "metadata": {
    "execution": {
     "iopub.execute_input": "2024-06-10T12:43:37.136074Z",
     "iopub.status.busy": "2024-06-10T12:43:37.135259Z",
     "iopub.status.idle": "2024-06-10T12:43:37.137773Z",
     "shell.execute_reply": "2024-06-10T12:43:37.137276Z",
     "shell.execute_reply.started": "2024-06-10T12:42:10.100235Z"
    },
    "papermill": {
     "duration": 0.035253,
     "end_time": "2024-06-10T12:43:37.137892",
     "exception": false,
     "start_time": "2024-06-10T12:43:37.102639",
     "status": "completed"
    },
    "tags": []
   },
   "outputs": [],
   "source": [
    "# Mask to remove positive examples from the batch of negative samples\n",
    "negative_mask = helpers.get_negative_mask(BATCH_SIZE)"
   ]
  },
  {
   "cell_type": "markdown",
   "id": "1b8686ef",
   "metadata": {
    "papermill": {
     "duration": 0.026021,
     "end_time": "2024-06-10T12:43:37.190499",
     "exception": false,
     "start_time": "2024-06-10T12:43:37.164478",
     "status": "completed"
    },
    "tags": []
   },
   "source": [
    "Tensorboard logging directory"
   ]
  },
  {
   "cell_type": "code",
   "execution_count": 7,
   "id": "d8e2b9a3",
   "metadata": {
    "execution": {
     "iopub.execute_input": "2024-06-10T12:43:37.267947Z",
     "iopub.status.busy": "2024-06-10T12:43:37.250186Z",
     "iopub.status.idle": "2024-06-10T12:43:38.231624Z",
     "shell.execute_reply": "2024-06-10T12:43:38.230963Z",
     "shell.execute_reply.started": "2024-06-10T12:42:10.113940Z"
    },
    "papermill": {
     "duration": 1.014728,
     "end_time": "2024-06-10T12:43:38.231769",
     "exception": false,
     "start_time": "2024-06-10T12:43:37.217041",
     "status": "completed"
    },
    "tags": []
   },
   "outputs": [],
   "source": [
    "! rm -rf ./logs\n",
    "current_time = datetime.datetime.now().strftime(\"%Y%m%d-%H%M%S\")\n",
    "train_log_dir = 'logs/gradient_tape/' + current_time + '/train'\n",
    "test_log_dir = 'logs/gradient_tape/' + current_time + '/test'\n",
    "train_summary_writer = tf.summary.create_file_writer(train_log_dir)\n",
    "test_summary_writer = tf.summary.create_file_writer(test_log_dir)"
   ]
  },
  {
   "cell_type": "code",
   "execution_count": 8,
   "id": "a178d5e7",
   "metadata": {
    "execution": {
     "iopub.execute_input": "2024-06-10T12:43:38.297471Z",
     "iopub.status.busy": "2024-06-10T12:43:38.296840Z",
     "iopub.status.idle": "2024-06-10T12:43:38.299501Z",
     "shell.execute_reply": "2024-06-10T12:43:38.298913Z",
     "shell.execute_reply.started": "2024-06-10T12:42:11.099494Z"
    },
    "papermill": {
     "duration": 0.041305,
     "end_time": "2024-06-10T12:43:38.299615",
     "exception": false,
     "start_time": "2024-06-10T12:43:38.258310",
     "status": "completed"
    },
    "tags": []
   },
   "outputs": [],
   "source": [
    "@tf.function\n",
    "def train_step(xis, \n",
    "               xjs, \n",
    "               model, \n",
    "               optimizer, \n",
    "               criterion, \n",
    "               temperature):\n",
    "\n",
    "    with tf.GradientTape() as tape:\n",
    "        zis = model(xis)\n",
    "        zjs = model(xjs)\n",
    "\n",
    "        # normalize projection feature vectors : onto a unit hypersphere\n",
    "        zis = tf.math.l2_normalize(zis, axis=1)\n",
    "        zjs = tf.math.l2_normalize(zjs, axis=1)\n",
    "          \n",
    "        # calculating over set of all positive pairs ( computing all numerators of softmax)\n",
    "        l_pos = sim_func_dim1(zis, zjs)\n",
    "        l_pos = tf.reshape(l_pos, (BATCH_SIZE, 1))\n",
    "\n",
    "        # temperature scaling\n",
    "        l_pos /= temperature\n",
    "        \n",
    "        # make the batch dimension 2*n\n",
    "        negatives = tf.concat([zjs, zis], axis=0)\n",
    "\n",
    "        loss = 0\n",
    "        for positives in [zis, zjs]:\n",
    "            # computing similarity with a data point & all the possible negatives\n",
    "            l_neg = sim_func_dim2(positives, negatives)\n",
    "            \n",
    "            # since each data point is its own class\n",
    "            labels = tf.zeros(BATCH_SIZE, dtype=tf.int32)\n",
    "            \n",
    "            # using the negative mask to remove itself & its positve counterpart to compute negative sim\n",
    "            l_neg = tf.boolean_mask(l_neg, negative_mask)\n",
    "            l_neg = tf.reshape(l_neg, (BATCH_SIZE, -1))\n",
    "\n",
    "            # temperature scaling\n",
    "            l_neg /= temperature\n",
    "\n",
    "            logits = tf.concat([l_pos, l_neg], axis=1) \n",
    "            loss += criterion(y_pred = logits, y_true = labels)\n",
    "\n",
    "        # since for every data point including its augmentation we compute the loss thus divide by 2*BatchSize\n",
    "        loss = loss / (2 * BATCH_SIZE)\n",
    "    \n",
    "    # Compute & apply the gradients on traininable paramters of the model\n",
    "    gradients = tape.gradient(loss, model.trainable_variables)\n",
    "    optimizer.apply_gradients(zip(gradients, model.trainable_variables))\n",
    "    \n",
    "    # updated model along with gradients so that we can visualise them on tensorboard.\n",
    "    return loss, gradients"
   ]
  },
  {
   "cell_type": "code",
   "execution_count": 9,
   "id": "bad15e0d",
   "metadata": {
    "execution": {
     "iopub.execute_input": "2024-06-10T12:43:38.369181Z",
     "iopub.status.busy": "2024-06-10T12:43:38.368224Z",
     "iopub.status.idle": "2024-06-10T12:43:38.370572Z",
     "shell.execute_reply": "2024-06-10T12:43:38.370017Z",
     "shell.execute_reply.started": "2024-06-10T12:42:11.112992Z"
    },
    "papermill": {
     "duration": 0.044212,
     "end_time": "2024-06-10T12:43:38.370689",
     "exception": false,
     "start_time": "2024-06-10T12:43:38.326477",
     "status": "completed"
    },
    "tags": []
   },
   "outputs": [],
   "source": [
    "def train_simclr(model, \n",
    "                 train_dataset, \n",
    "                 optimizer, \n",
    "                 criterion,\n",
    "                 temperature=0.1, \n",
    "                 epochs=100,\n",
    "                 num_train_samples_viz = 5,\n",
    "                 num_test_samples_viz = 2):\n",
    "    \n",
    "    \"\"\"\n",
    "      Training the model function\n",
    "    \"\"\"\n",
    "    \n",
    " \n",
    "    print(\"Starting training procedure .... : \")\n",
    "    print(\"Number of steps per epoch : \",len(train_dataset))\n",
    "    \n",
    "    # To measure per epoch time taken\n",
    "    t_start = time.time()\n",
    "    \n",
    "    # Visualisation lists\n",
    "    lr_epoch = []\n",
    "    epoch_wise_loss = []\n",
    "\n",
    "    for epoch in range(0, epochs):\n",
    "        \n",
    "        # Reset loss collection each step\n",
    "        step_wise_loss = []\n",
    "\n",
    "        # Number of grad descent steps in 1 epoch\n",
    "        num_train_steps = len(train_dataset) \n",
    "\n",
    "        # Picking up random batches & taking first image for input check\n",
    "        random_batches_train = random.sample(range(len(train_dataset)),num_train_samples_viz)\n",
    "        cnt = 0\n",
    "\n",
    "        # Arrays for tensorboard visualisation\n",
    "        random_collection_train_sample_1 = []\n",
    "        random_collection_train_sample_2 = []\n",
    "        gradArray = None\n",
    "        loss = None \n",
    "\n",
    "        # Training loop\n",
    "        for image_batch in tqdm(train_dataset):\n",
    "            # Fetching both views for input\n",
    "            a = image_batch[0]\n",
    "            b = image_batch[1]\n",
    "\n",
    "            # Train one batch\n",
    "            loss, gradArray = train_step(a, b, model, optimizer, criterion, temperature)\n",
    "            step_wise_loss.append(loss)\n",
    "\n",
    "            # Check whether to take image from this batch or not\n",
    "            if cnt in random_batches_train:\n",
    "                random_collection_train_sample_1.append(image_batch[0][0])\n",
    "                random_collection_train_sample_2.append(image_batch[1][0])\n",
    "            cnt+=1\n",
    "        \n",
    "        # Average loss throughout the whole process\n",
    "        if not len(epoch_wise_loss):\n",
    "            epoch_wise_loss.append(np.mean(step_wise_loss))\n",
    "        else:\n",
    "            # Adding the mean of previous ones\n",
    "            mean_value = (np.sum(step_wise_loss) + epoch_wise_loss[-1]*(epoch)*num_train_steps)/((epoch+1)*num_train_steps)\n",
    "            epoch_wise_loss.append(mean_value)\n",
    "        \n",
    "        # Printing the loss progression\n",
    "        print(\"\\n epoch: {} | train loss: {:.8f} | lr : {} | {:.4f} mins\"\n",
    "              .format(epoch + 1,epoch_wise_loss[-1],optimizer._decayed_lr(tf.float32).numpy(), (time.time()-t_start)/60.0))    \n",
    "   \n",
    "        # Appending the value of learning rate for warmup + cosine decay visualisation\n",
    "        lr_epoch.append(optimizer._decayed_lr(tf.float32).numpy())\n",
    "        \n",
    "        # Tensorfboard visualisations\n",
    "#         tf.summary.experimental.set_step(epoch)\n",
    "#         with train_summary_writer.as_default():\n",
    "#             tf.summary.scalar('LOSS', epoch_wise_loss[-1], step=epoch)\n",
    "#             tf.summary.scalar('LEARNING RATE PROGRESSION', lr_epoch[-1], step = epoch)\n",
    "#             tf.summary.image('VIEW 1', random_collection_train_sample_1, step=epoch)\n",
    "#             tf.summary.image('VIEW 2', random_collection_train_sample_2, step=epoch)\n",
    "\n",
    "#             # global variable defined later\n",
    "#             for name in layer_names:\n",
    "#                 tf.summary.histogram(name+\"_gradients\",gradArray[layer_to_index[name]])\n",
    "                \n",
    "#             for layer in model.layers:\n",
    "#                 for tl in layer.trainable_weights:\n",
    "#                     if tl.name in layer_names:\n",
    "#                         tf.summary.histogram(tl.name+\"_weights\",tl.numpy())\n",
    "        \n",
    "        # saving models \n",
    "        print(\"Saving Base Model.....\")\n",
    "        \n",
    "        # Saving the entire model for checkpointing reasons\n",
    "        model.save(\"./\" + modelNameStr + \".h5\")\n",
    "\n",
    "        # saving the state of optimizer\n",
    "        np.save(\"./\" + modelNameStr + \"_optimizer.npy\", optimizer.get_weights())\n",
    "\n",
    "    \n",
    "    return epoch_wise_loss, model"
   ]
  },
  {
   "cell_type": "code",
   "execution_count": 10,
   "id": "948f8e50",
   "metadata": {
    "execution": {
     "iopub.execute_input": "2024-06-10T12:43:38.433551Z",
     "iopub.status.busy": "2024-06-10T12:43:38.432796Z",
     "iopub.status.idle": "2024-06-10T12:43:38.435128Z",
     "shell.execute_reply": "2024-06-10T12:43:38.435577Z",
     "shell.execute_reply.started": "2024-06-10T12:42:11.132059Z"
    },
    "papermill": {
     "duration": 0.038784,
     "end_time": "2024-06-10T12:43:38.435715",
     "exception": false,
     "start_time": "2024-06-10T12:43:38.396931",
     "status": "completed"
    },
    "tags": []
   },
   "outputs": [],
   "source": [
    "class WarmUp(tf.keras.optimizers.schedules.LearningRateSchedule):\n",
    "  def __init__(self,\n",
    "               initial_learning_rate: float,\n",
    "               decay_schedule_fn: Callable,\n",
    "               warmup_steps: int,\n",
    "               power: float = 1.0,\n",
    "               name: str = None,):\n",
    "    \n",
    "    super().__init__()\n",
    "    self.initial_learning_rate = initial_learning_rate\n",
    "    self.warmup_steps = warmup_steps\n",
    "    self.power = power\n",
    "    self.decay_schedule_fn = decay_schedule_fn\n",
    "    self.name = name\n",
    "\n",
    "  def __call__(self, step):\n",
    "    with tf.name_scope(self.name or \"WarmUp\") as name:\n",
    "        # Implements polynomial warmup. i.e., if global_step < warmup_steps, the\n",
    "        # learning rate will be `global_step/num_warmup_steps * init_lr`.\n",
    "        global_step_float = tf.cast(step, tf.float32)\n",
    "        warmup_steps_float = tf.cast(self.warmup_steps, tf.float32)\n",
    "        warmup_percent_done = global_step_float / warmup_steps_float\n",
    "        warmup_learning_rate = self.initial_learning_rate * tf.math.pow(warmup_percent_done, self.power)\n",
    "        return tf.cond(\n",
    "            global_step_float < warmup_steps_float,\n",
    "            lambda: warmup_learning_rate,\n",
    "            lambda: self.decay_schedule_fn(step - self.warmup_steps),\n",
    "            name=name,\n",
    "        )\n",
    "\n",
    "  def get_config(self):\n",
    "    return {\n",
    "        \"initial_learning_rate\": self.initial_learning_rate,\n",
    "        \"decay_schedule_fn\": self.decay_schedule_fn,\n",
    "        \"warmup_steps\": self.warmup_steps,\n",
    "        \"power\": self.power,\n",
    "        \"name\": self.name,\n",
    "    }"
   ]
  },
  {
   "cell_type": "code",
   "execution_count": 11,
   "id": "311632dc",
   "metadata": {
    "execution": {
     "iopub.execute_input": "2024-06-10T12:43:38.507704Z",
     "iopub.status.busy": "2024-06-10T12:43:38.502564Z",
     "iopub.status.idle": "2024-06-10T12:43:42.861135Z",
     "shell.execute_reply": "2024-06-10T12:43:42.860612Z",
     "shell.execute_reply.started": "2024-06-10T12:42:11.147056Z"
    },
    "papermill": {
     "duration": 4.397544,
     "end_time": "2024-06-10T12:43:42.861273",
     "exception": false,
     "start_time": "2024-06-10T12:43:38.463729",
     "status": "completed"
    },
    "tags": []
   },
   "outputs": [
    {
     "name": "stdout",
     "output_type": "stream",
     "text": [
      "ModelName :  pretraining_on_unlabeled\n"
     ]
    },
    {
     "name": "stderr",
     "output_type": "stream",
     "text": [
      "/opt/conda/lib/python3.7/site-packages/keras/utils/generic_utils.py:497: CustomMaskWarning: Custom mask layers require a config and must override get_config. When loading, the custom mask layer must be passed to the custom_objects argument.\n",
      "  category=CustomMaskWarning)\n"
     ]
    },
    {
     "name": "stdout",
     "output_type": "stream",
     "text": [
      "Decay Steps :  19050\n",
      "['block7a_expand_bn/gamma:0', 'block7a_bn/gamma:0', 'block7a_se_expand/kernel:0', 'block7a_project_bn/beta:0', 'dense/kernel:0', 'dense_1/kernel:0']\n"
     ]
    }
   ],
   "source": [
    "# Defining the loss function\n",
    "criterion = tf.keras.losses.SparseCategoricalCrossentropy(from_logits=True, \n",
    "                                                          reduction=tf.keras.losses.Reduction.SUM)\n",
    "# Number of epochs\n",
    "tot_epochs = 50\n",
    "\n",
    "# temperature in NTXent\n",
    "loss_temp = 0.2\n",
    "\n",
    "# Defining the SimCLR model\n",
    "# Differentiating models via their hyper-parameter values\n",
    "modelNameStr = \"pretraining_on_unlabeled\"\n",
    "print(\"ModelName : \",modelNameStr) \n",
    "simclr_2 = get_simclr(256, 256)\n",
    "\n",
    "\n",
    "# optimiser decay schedule\n",
    "decay_steps = (len(final_dataset))*tot_epochs\n",
    "warmup_steps = (len(final_dataset))*10\n",
    "initial_lr = 0.5e-3\n",
    "\n",
    "# Cosine decay function\n",
    "lr_decayed_fn = tf.keras.experimental.CosineDecay(initial_learning_rate = initial_lr, \n",
    "                                                  decay_steps = decay_steps)\n",
    "cosine_with_warmUp = WarmUp(initial_learning_rate = initial_lr,\n",
    "                            decay_schedule_fn = lr_decayed_fn,\n",
    "                            warmup_steps = warmup_steps)\n",
    "\n",
    "print(\"Decay Steps : \",decay_steps)\n",
    "optimizer = tf.keras.optimizers.Adam(cosine_with_warmUp)\n",
    "\n",
    "# Learning a layer to number mapping for kernel weight & gradient visualisation of last few CNN layers & projection head\n",
    "tot = []\n",
    "for i in simclr_2.layers:\n",
    "  for j in i.trainable_weights:\n",
    "    tot.append(j.name)\n",
    "cnt = 0\n",
    "\n",
    "layer_names = [tot[-23], tot[-20], tot[-16], tot[-12], tot[-8], tot[-4]]\n",
    "print(layer_names)\n",
    "index_to_layer = {}\n",
    "for i in simclr_2.layers:\n",
    "  for j in i.trainable_weights:\n",
    "    index_to_layer[cnt] = j.name\n",
    "    cnt+=1\n",
    "layer_to_index = {j:i for i,j in index_to_layer.items()}"
   ]
  },
  {
   "cell_type": "code",
   "execution_count": 12,
   "id": "44425596",
   "metadata": {
    "execution": {
     "iopub.execute_input": "2024-06-10T12:43:42.927340Z",
     "iopub.status.busy": "2024-06-10T12:43:42.919889Z",
     "iopub.status.idle": "2024-06-10T12:43:42.939547Z",
     "shell.execute_reply": "2024-06-10T12:43:42.940049Z",
     "shell.execute_reply.started": "2024-06-10T12:42:15.495041Z"
    },
    "papermill": {
     "duration": 0.051483,
     "end_time": "2024-06-10T12:43:42.940210",
     "exception": false,
     "start_time": "2024-06-10T12:43:42.888727",
     "status": "completed"
    },
    "tags": []
   },
   "outputs": [
    {
     "name": "stdout",
     "output_type": "stream",
     "text": [
      "Model: \"model\"\n",
      "_________________________________________________________________\n",
      "Layer (type)                 Output Shape              Param #   \n",
      "=================================================================\n",
      "input_2 (InputLayer)         [(None, 128, 384, 3)]     0         \n",
      "_________________________________________________________________\n",
      "efficientnet-b0 (Functional) (None, 4, 12, 1280)       4049564   \n",
      "_________________________________________________________________\n",
      "global_average_pooling2d (Gl (None, 1280)              0         \n",
      "_________________________________________________________________\n",
      "dense (Dense)                (None, 256)               327936    \n",
      "_________________________________________________________________\n",
      "batch_normalization (BatchNo (None, 256)               1024      \n",
      "_________________________________________________________________\n",
      "activation (Activation)      (None, 256)               0         \n",
      "_________________________________________________________________\n",
      "dense_1 (Dense)              (None, 256)               65792     \n",
      "_________________________________________________________________\n",
      "batch_normalization_1 (Batch (None, 256)               1024      \n",
      "_________________________________________________________________\n",
      "activation_1 (Activation)    (None, 256)               0         \n",
      "=================================================================\n",
      "Total params: 4,445,340\n",
      "Trainable params: 4,402,300\n",
      "Non-trainable params: 43,040\n",
      "_________________________________________________________________\n"
     ]
    }
   ],
   "source": [
    "simclr_2.summary()"
   ]
  },
  {
   "cell_type": "code",
   "execution_count": 13,
   "id": "d7b1fceb",
   "metadata": {
    "execution": {
     "iopub.execute_input": "2024-06-10T12:43:42.999379Z",
     "iopub.status.busy": "2024-06-10T12:43:42.998769Z",
     "iopub.status.idle": "2024-06-10T14:24:13.783743Z",
     "shell.execute_reply": "2024-06-10T14:24:13.782253Z",
     "shell.execute_reply.started": "2024-06-10T12:42:38.223334Z"
    },
    "papermill": {
     "duration": 6030.816222,
     "end_time": "2024-06-10T14:24:13.783880",
     "exception": false,
     "start_time": "2024-06-10T12:43:42.967658",
     "status": "completed"
    },
    "tags": []
   },
   "outputs": [
    {
     "name": "stdout",
     "output_type": "stream",
     "text": [
      "Starting training procedure .... : \n",
      "Number of steps per epoch :  381\n"
     ]
    },
    {
     "name": "stderr",
     "output_type": "stream",
     "text": [
      "100%|██████████| 381/381 [02:11<00:00,  2.90it/s]\n"
     ]
    },
    {
     "name": "stdout",
     "output_type": "stream",
     "text": [
      "\n",
      " epoch: 1 | train loss: 1.99117124 | lr : 5.000000601285137e-05 | 2.1871 mins\n",
      "Saving Base Model.....\n"
     ]
    },
    {
     "name": "stderr",
     "output_type": "stream",
     "text": [
      "/opt/conda/lib/python3.7/site-packages/numpy/core/_asarray.py:171: VisibleDeprecationWarning: Creating an ndarray from ragged nested sequences (which is a list-or-tuple of lists-or-tuples-or ndarrays with different lengths or shapes) is deprecated. If you meant to do this, you must specify 'dtype=object' when creating the ndarray.\n",
      "  return array(a, dtype, copy=False, order=order, subok=True)\n",
      "100%|██████████| 381/381 [02:21<00:00,  2.68it/s]\n"
     ]
    },
    {
     "name": "stdout",
     "output_type": "stream",
     "text": [
      "\n",
      " epoch: 2 | train loss: 1.40374814 | lr : 0.00010000001202570274 | 4.5615 mins\n",
      "Saving Base Model.....\n"
     ]
    },
    {
     "name": "stderr",
     "output_type": "stream",
     "text": [
      "100%|██████████| 381/381 [02:21<00:00,  2.68it/s]\n"
     ]
    },
    {
     "name": "stdout",
     "output_type": "stream",
     "text": [
      "\n",
      " epoch: 3 | train loss: 1.10431236 | lr : 0.00015000002167653292 | 6.9363 mins\n",
      "Saving Base Model.....\n"
     ]
    },
    {
     "name": "stderr",
     "output_type": "stream",
     "text": [
      "100%|██████████| 381/381 [02:21<00:00,  2.68it/s]\n"
     ]
    },
    {
     "name": "stdout",
     "output_type": "stream",
     "text": [
      "\n",
      " epoch: 4 | train loss: 0.93489198 | lr : 0.00020000000949949026 | 9.3117 mins\n",
      "Saving Base Model.....\n"
     ]
    },
    {
     "name": "stderr",
     "output_type": "stream",
     "text": [
      "100%|██████████| 381/381 [01:29<00:00,  4.26it/s]\n"
     ]
    },
    {
     "name": "stdout",
     "output_type": "stream",
     "text": [
      "\n",
      " epoch: 5 | train loss: 0.82529036 | lr : 0.0002500000118743628 | 10.8145 mins\n",
      "Saving Base Model.....\n"
     ]
    },
    {
     "name": "stderr",
     "output_type": "stream",
     "text": [
      "100%|██████████| 381/381 [01:29<00:00,  4.26it/s]\n"
     ]
    },
    {
     "name": "stdout",
     "output_type": "stream",
     "text": [
      "\n",
      " epoch: 6 | train loss: 0.74875224 | lr : 0.0003000000142492354 | 12.3160 mins\n",
      "Saving Base Model.....\n"
     ]
    },
    {
     "name": "stderr",
     "output_type": "stream",
     "text": [
      "100%|██████████| 381/381 [01:29<00:00,  4.25it/s]\n"
     ]
    },
    {
     "name": "stdout",
     "output_type": "stream",
     "text": [
      "\n",
      " epoch: 7 | train loss: 0.69402622 | lr : 0.0003499999875202775 | 13.8196 mins\n",
      "Saving Base Model.....\n"
     ]
    },
    {
     "name": "stderr",
     "output_type": "stream",
     "text": [
      "100%|██████████| 381/381 [02:21<00:00,  2.68it/s]\n"
     ]
    },
    {
     "name": "stdout",
     "output_type": "stream",
     "text": [
      "\n",
      " epoch: 8 | train loss: 0.65159305 | lr : 0.0004000000189989805 | 16.1943 mins\n",
      "Saving Base Model.....\n"
     ]
    },
    {
     "name": "stderr",
     "output_type": "stream",
     "text": [
      "100%|██████████| 381/381 [01:29<00:00,  4.26it/s]\n"
     ]
    },
    {
     "name": "stdout",
     "output_type": "stream",
     "text": [
      "\n",
      " epoch: 9 | train loss: 0.61801432 | lr : 0.0004500000213738531 | 17.6975 mins\n",
      "Saving Base Model.....\n"
     ]
    },
    {
     "name": "stderr",
     "output_type": "stream",
     "text": [
      "100%|██████████| 381/381 [02:21<00:00,  2.68it/s]\n"
     ]
    },
    {
     "name": "stdout",
     "output_type": "stream",
     "text": [
      "\n",
      " epoch: 10 | train loss: 0.59314909 | lr : 0.0005000000237487257 | 20.0724 mins\n",
      "Saving Base Model.....\n"
     ]
    },
    {
     "name": "stderr",
     "output_type": "stream",
     "text": [
      "100%|██████████| 381/381 [02:21<00:00,  2.68it/s]\n"
     ]
    },
    {
     "name": "stdout",
     "output_type": "stream",
     "text": [
      "\n",
      " epoch: 11 | train loss: 0.57024619 | lr : 0.000499506713822484 | 22.4472 mins\n",
      "Saving Base Model.....\n"
     ]
    },
    {
     "name": "stderr",
     "output_type": "stream",
     "text": [
      "100%|██████████| 381/381 [02:21<00:00,  2.68it/s]\n"
     ]
    },
    {
     "name": "stdout",
     "output_type": "stream",
     "text": [
      "\n",
      " epoch: 12 | train loss: 0.55010453 | lr : 0.0004980287048965693 | 24.8224 mins\n",
      "Saving Base Model.....\n"
     ]
    },
    {
     "name": "stderr",
     "output_type": "stream",
     "text": [
      "100%|██████████| 381/381 [01:29<00:00,  4.25it/s]\n"
     ]
    },
    {
     "name": "stdout",
     "output_type": "stream",
     "text": [
      "\n",
      " epoch: 13 | train loss: 0.53319692 | lr : 0.0004955718177370727 | 26.3295 mins\n",
      "Saving Base Model.....\n"
     ]
    },
    {
     "name": "stderr",
     "output_type": "stream",
     "text": [
      "100%|██████████| 381/381 [01:29<00:00,  4.25it/s]\n"
     ]
    },
    {
     "name": "stdout",
     "output_type": "stream",
     "text": [
      "\n",
      " epoch: 14 | train loss: 0.51806555 | lr : 0.0004921457730233669 | 27.8342 mins\n",
      "Saving Base Model.....\n"
     ]
    },
    {
     "name": "stderr",
     "output_type": "stream",
     "text": [
      "100%|██████████| 381/381 [02:21<00:00,  2.68it/s]\n"
     ]
    },
    {
     "name": "stdout",
     "output_type": "stream",
     "text": [
      "\n",
      " epoch: 15 | train loss: 0.50468545 | lr : 0.00048776413314044476 | 30.2090 mins\n",
      "Saving Base Model.....\n"
     ]
    },
    {
     "name": "stderr",
     "output_type": "stream",
     "text": [
      "100%|██████████| 381/381 [02:21<00:00,  2.68it/s]\n"
     ]
    },
    {
     "name": "stdout",
     "output_type": "stream",
     "text": [
      "\n",
      " epoch: 16 | train loss: 0.49261022 | lr : 0.0004824441275559366 | 32.5839 mins\n",
      "Saving Base Model.....\n"
     ]
    },
    {
     "name": "stderr",
     "output_type": "stream",
     "text": [
      "100%|██████████| 381/381 [01:29<00:00,  4.26it/s]\n"
     ]
    },
    {
     "name": "stdout",
     "output_type": "stream",
     "text": [
      "\n",
      " epoch: 17 | train loss: 0.48125619 | lr : 0.0004762067983392626 | 34.0876 mins\n",
      "Saving Base Model.....\n"
     ]
    },
    {
     "name": "stderr",
     "output_type": "stream",
     "text": [
      "100%|██████████| 381/381 [01:29<00:00,  4.27it/s]\n"
     ]
    },
    {
     "name": "stdout",
     "output_type": "stream",
     "text": [
      "\n",
      " epoch: 18 | train loss: 0.47154465 | lr : 0.00046907670912332833 | 35.5877 mins\n",
      "Saving Base Model.....\n"
     ]
    },
    {
     "name": "stderr",
     "output_type": "stream",
     "text": [
      "100%|██████████| 381/381 [01:29<00:00,  4.25it/s]\n"
     ]
    },
    {
     "name": "stdout",
     "output_type": "stream",
     "text": [
      "\n",
      " epoch: 19 | train loss: 0.46236921 | lr : 0.0004610820033121854 | 37.0917 mins\n",
      "Saving Base Model.....\n"
     ]
    },
    {
     "name": "stderr",
     "output_type": "stream",
     "text": [
      "100%|██████████| 381/381 [01:29<00:00,  4.24it/s]\n"
     ]
    },
    {
     "name": "stdout",
     "output_type": "stream",
     "text": [
      "\n",
      " epoch: 20 | train loss: 0.45408169 | lr : 0.0004522542585618794 | 38.6004 mins\n",
      "Saving Base Model.....\n"
     ]
    },
    {
     "name": "stderr",
     "output_type": "stream",
     "text": [
      "100%|██████████| 381/381 [01:29<00:00,  4.25it/s]\n"
     ]
    },
    {
     "name": "stdout",
     "output_type": "stream",
     "text": [
      "\n",
      " epoch: 21 | train loss: 0.44620195 | lr : 0.00044262834126129746 | 40.1044 mins\n",
      "Saving Base Model.....\n"
     ]
    },
    {
     "name": "stderr",
     "output_type": "stream",
     "text": [
      "100%|██████████| 381/381 [02:21<00:00,  2.68it/s]\n"
     ]
    },
    {
     "name": "stdout",
     "output_type": "stream",
     "text": [
      "\n",
      " epoch: 22 | train loss: 0.43888031 | lr : 0.00043224217370152473 | 42.4791 mins\n",
      "Saving Base Model.....\n"
     ]
    },
    {
     "name": "stderr",
     "output_type": "stream",
     "text": [
      "100%|██████████| 381/381 [01:29<00:00,  4.24it/s]\n"
     ]
    },
    {
     "name": "stdout",
     "output_type": "stream",
     "text": [
      "\n",
      " epoch: 23 | train loss: 0.43193012 | lr : 0.00042113682138733566 | 43.9890 mins\n",
      "Saving Base Model.....\n"
     ]
    },
    {
     "name": "stderr",
     "output_type": "stream",
     "text": [
      "100%|██████████| 381/381 [02:21<00:00,  2.68it/s]\n"
     ]
    },
    {
     "name": "stdout",
     "output_type": "stream",
     "text": [
      "\n",
      " epoch: 24 | train loss: 0.42525871 | lr : 0.0004093560273759067 | 46.3679 mins\n",
      "Saving Base Model.....\n"
     ]
    },
    {
     "name": "stderr",
     "output_type": "stream",
     "text": [
      "100%|██████████| 381/381 [01:30<00:00,  4.21it/s]\n"
     ]
    },
    {
     "name": "stdout",
     "output_type": "stream",
     "text": [
      "\n",
      " epoch: 25 | train loss: 0.41905772 | lr : 0.0003969463286921382 | 47.8879 mins\n",
      "Saving Base Model.....\n"
     ]
    },
    {
     "name": "stderr",
     "output_type": "stream",
     "text": [
      "100%|██████████| 381/381 [02:21<00:00,  2.68it/s]\n"
     ]
    },
    {
     "name": "stdout",
     "output_type": "stream",
     "text": [
      "\n",
      " epoch: 26 | train loss: 0.41345004 | lr : 0.00038395667797885835 | 50.2626 mins\n",
      "Saving Base Model.....\n"
     ]
    },
    {
     "name": "stderr",
     "output_type": "stream",
     "text": [
      "100%|██████████| 381/381 [01:30<00:00,  4.21it/s]\n"
     ]
    },
    {
     "name": "stdout",
     "output_type": "stream",
     "text": [
      "\n",
      " epoch: 27 | train loss: 0.40803219 | lr : 0.00037043841439299285 | 51.7838 mins\n",
      "Saving Base Model.....\n"
     ]
    },
    {
     "name": "stderr",
     "output_type": "stream",
     "text": [
      "100%|██████████| 381/381 [01:29<00:00,  4.23it/s]\n"
     ]
    },
    {
     "name": "stdout",
     "output_type": "stream",
     "text": [
      "\n",
      " epoch: 28 | train loss: 0.40301971 | lr : 0.000356444827048108 | 53.2948 mins\n",
      "Saving Base Model.....\n"
     ]
    },
    {
     "name": "stderr",
     "output_type": "stream",
     "text": [
      "100%|██████████| 381/381 [02:21<00:00,  2.68it/s]\n"
     ]
    },
    {
     "name": "stdout",
     "output_type": "stream",
     "text": [
      "\n",
      " epoch: 29 | train loss: 0.39830092 | lr : 0.00034203112591058016 | 55.6698 mins\n",
      "Saving Base Model.....\n"
     ]
    },
    {
     "name": "stderr",
     "output_type": "stream",
     "text": [
      "100%|██████████| 381/381 [02:21<00:00,  2.68it/s]\n"
     ]
    },
    {
     "name": "stdout",
     "output_type": "stream",
     "text": [
      "\n",
      " epoch: 30 | train loss: 0.39370657 | lr : 0.00032725423807278275 | 58.0457 mins\n",
      "Saving Base Model.....\n"
     ]
    },
    {
     "name": "stderr",
     "output_type": "stream",
     "text": [
      "100%|██████████| 381/381 [01:30<00:00,  4.22it/s]\n"
     ]
    },
    {
     "name": "stdout",
     "output_type": "stream",
     "text": [
      "\n",
      " epoch: 31 | train loss: 0.38940635 | lr : 0.0003121725167147815 | 59.5616 mins\n",
      "Saving Base Model.....\n"
     ]
    },
    {
     "name": "stderr",
     "output_type": "stream",
     "text": [
      "100%|██████████| 381/381 [02:21<00:00,  2.68it/s]\n"
     ]
    },
    {
     "name": "stdout",
     "output_type": "stream",
     "text": [
      "\n",
      " epoch: 32 | train loss: 0.38514533 | lr : 0.0002968453336507082 | 61.9362 mins\n",
      "Saving Base Model.....\n"
     ]
    },
    {
     "name": "stderr",
     "output_type": "stream",
     "text": [
      "100%|██████████| 381/381 [02:21<00:00,  2.68it/s]\n"
     ]
    },
    {
     "name": "stdout",
     "output_type": "stream",
     "text": [
      "\n",
      " epoch: 33 | train loss: 0.38106095 | lr : 0.0002813332830555737 | 64.3115 mins\n",
      "Saving Base Model.....\n"
     ]
    },
    {
     "name": "stderr",
     "output_type": "stream",
     "text": [
      "100%|██████████| 381/381 [02:21<00:00,  2.68it/s]\n"
     ]
    },
    {
     "name": "stdout",
     "output_type": "stream",
     "text": [
      "\n",
      " epoch: 34 | train loss: 0.37735580 | lr : 0.00026569762849248946 | 66.6870 mins\n",
      "Saving Base Model.....\n"
     ]
    },
    {
     "name": "stderr",
     "output_type": "stream",
     "text": [
      "100%|██████████| 381/381 [02:21<00:00,  2.68it/s]\n"
     ]
    },
    {
     "name": "stdout",
     "output_type": "stream",
     "text": [
      "\n",
      " epoch: 35 | train loss: 0.37360175 | lr : 0.00024999998277053237 | 69.0625 mins\n",
      "Saving Base Model.....\n"
     ]
    },
    {
     "name": "stderr",
     "output_type": "stream",
     "text": [
      "100%|██████████| 381/381 [02:21<00:00,  2.68it/s]\n"
     ]
    },
    {
     "name": "stdout",
     "output_type": "stream",
     "text": [
      "\n",
      " epoch: 36 | train loss: 0.36999596 | lr : 0.0002343023952562362 | 71.4379 mins\n",
      "Saving Base Model.....\n"
     ]
    },
    {
     "name": "stderr",
     "output_type": "stream",
     "text": [
      "100%|██████████| 381/381 [02:21<00:00,  2.68it/s]\n"
     ]
    },
    {
     "name": "stdout",
     "output_type": "stream",
     "text": [
      "\n",
      " epoch: 37 | train loss: 0.36649714 | lr : 0.00021866668248549104 | 73.8133 mins\n",
      "Saving Base Model.....\n"
     ]
    },
    {
     "name": "stderr",
     "output_type": "stream",
     "text": [
      "100%|██████████| 381/381 [01:29<00:00,  4.24it/s]\n"
     ]
    },
    {
     "name": "stdout",
     "output_type": "stream",
     "text": [
      "\n",
      " epoch: 38 | train loss: 0.36329146 | lr : 0.00020315467554610223 | 75.3232 mins\n",
      "Saving Base Model.....\n"
     ]
    },
    {
     "name": "stderr",
     "output_type": "stream",
     "text": [
      "100%|██████████| 381/381 [01:30<00:00,  4.23it/s]\n"
     ]
    },
    {
     "name": "stdout",
     "output_type": "stream",
     "text": [
      "\n",
      " epoch: 39 | train loss: 0.36007816 | lr : 0.0001878275361377746 | 76.8355 mins\n",
      "Saving Base Model.....\n"
     ]
    },
    {
     "name": "stderr",
     "output_type": "stream",
     "text": [
      "100%|██████████| 381/381 [02:21<00:00,  2.68it/s]\n"
     ]
    },
    {
     "name": "stdout",
     "output_type": "stream",
     "text": [
      "\n",
      " epoch: 40 | train loss: 0.35702414 | lr : 0.00017274571291636676 | 79.2111 mins\n",
      "Saving Base Model.....\n"
     ]
    },
    {
     "name": "stderr",
     "output_type": "stream",
     "text": [
      "100%|██████████| 381/381 [02:21<00:00,  2.68it/s]\n"
     ]
    },
    {
     "name": "stdout",
     "output_type": "stream",
     "text": [
      "\n",
      " epoch: 41 | train loss: 0.35400431 | lr : 0.0001579688541823998 | 81.5865 mins\n",
      "Saving Base Model.....\n"
     ]
    },
    {
     "name": "stderr",
     "output_type": "stream",
     "text": [
      "100%|██████████| 381/381 [02:21<00:00,  2.68it/s]\n"
     ]
    },
    {
     "name": "stdout",
     "output_type": "stream",
     "text": [
      "\n",
      " epoch: 42 | train loss: 0.35117960 | lr : 0.00014355516759678721 | 83.9621 mins\n",
      "Saving Base Model.....\n"
     ]
    },
    {
     "name": "stderr",
     "output_type": "stream",
     "text": [
      "100%|██████████| 381/381 [02:21<00:00,  2.68it/s]\n"
     ]
    },
    {
     "name": "stdout",
     "output_type": "stream",
     "text": [
      "\n",
      " epoch: 43 | train loss: 0.34847509 | lr : 0.00012956155114807189 | 86.3382 mins\n",
      "Saving Base Model.....\n"
     ]
    },
    {
     "name": "stderr",
     "output_type": "stream",
     "text": [
      "100%|██████████| 381/381 [02:21<00:00,  2.68it/s]\n"
     ]
    },
    {
     "name": "stdout",
     "output_type": "stream",
     "text": [
      "\n",
      " epoch: 44 | train loss: 0.34576533 | lr : 0.00011604327301029116 | 88.7143 mins\n",
      "Saving Base Model.....\n"
     ]
    },
    {
     "name": "stderr",
     "output_type": "stream",
     "text": [
      "100%|██████████| 381/381 [01:30<00:00,  4.21it/s]\n"
     ]
    },
    {
     "name": "stdout",
     "output_type": "stream",
     "text": [
      "\n",
      " epoch: 45 | train loss: 0.34328629 | lr : 0.00010305369505658746 | 90.2348 mins\n",
      "Saving Base Model.....\n"
     ]
    },
    {
     "name": "stderr",
     "output_type": "stream",
     "text": [
      "100%|██████████| 381/381 [01:30<00:00,  4.22it/s]\n"
     ]
    },
    {
     "name": "stdout",
     "output_type": "stream",
     "text": [
      "\n",
      " epoch: 46 | train loss: 0.34086369 | lr : 9.064395999303088e-05 | 91.7497 mins\n",
      "Saving Base Model.....\n"
     ]
    },
    {
     "name": "stderr",
     "output_type": "stream",
     "text": [
      "100%|██████████| 381/381 [02:21<00:00,  2.68it/s]\n"
     ]
    },
    {
     "name": "stdout",
     "output_type": "stream",
     "text": [
      "\n",
      " epoch: 47 | train loss: 0.33833711 | lr : 7.886322418926284e-05 | 94.1251 mins\n",
      "Saving Base Model.....\n"
     ]
    },
    {
     "name": "stderr",
     "output_type": "stream",
     "text": [
      "100%|██████████| 381/381 [02:21<00:00,  2.68it/s]\n"
     ]
    },
    {
     "name": "stdout",
     "output_type": "stream",
     "text": [
      "\n",
      " epoch: 48 | train loss: 0.33601168 | lr : 6.775785004720092e-05 | 96.5004 mins\n",
      "Saving Base Model.....\n"
     ]
    },
    {
     "name": "stderr",
     "output_type": "stream",
     "text": [
      "100%|██████████| 381/381 [01:29<00:00,  4.24it/s]\n"
     ]
    },
    {
     "name": "stdout",
     "output_type": "stream",
     "text": [
      "\n",
      " epoch: 49 | train loss: 0.33379986 | lr : 5.737167884944938e-05 | 98.0112 mins\n",
      "Saving Base Model.....\n"
     ]
    },
    {
     "name": "stderr",
     "output_type": "stream",
     "text": [
      "100%|██████████| 381/381 [02:21<00:00,  2.68it/s]\n"
     ]
    },
    {
     "name": "stdout",
     "output_type": "stream",
     "text": [
      "\n",
      " epoch: 50 | train loss: 0.33168156 | lr : 4.77457360830158e-05 | 100.3867 mins\n",
      "Saving Base Model.....\n"
     ]
    }
   ],
   "source": [
    "epoch_wise_loss, final_simCLR  = train_simclr(simclr_2, \n",
    "                                              final_dataset,\n",
    "                                              optimizer, \n",
    "                                              criterion,\n",
    "                                              temperature= loss_temp, \n",
    "                                              epochs = tot_epochs)"
   ]
  },
  {
   "cell_type": "code",
   "execution_count": null,
   "id": "24abdd59",
   "metadata": {
    "papermill": {
     "duration": 7.498927,
     "end_time": "2024-06-10T14:24:28.785008",
     "exception": false,
     "start_time": "2024-06-10T14:24:21.286081",
     "status": "completed"
    },
    "tags": []
   },
   "outputs": [],
   "source": []
  }
 ],
 "metadata": {
  "kaggle": {
   "accelerator": "gpu",
   "dataSources": [
    {
     "datasetId": 1960865,
     "sourceId": 3234541,
     "sourceType": "datasetVersion"
    },
    {
     "datasetId": 4304475,
     "sourceId": 7402356,
     "sourceType": "datasetVersion"
    },
    {
     "datasetId": 5021997,
     "isSourceIdPinned": true,
     "sourceId": 8655794,
     "sourceType": "datasetVersion"
    },
    {
     "sourceId": 158958765,
     "sourceType": "kernelVersion"
    },
    {
     "sourceId": 181623636,
     "sourceType": "kernelVersion"
    }
   ],
   "dockerImageVersionId": 30163,
   "isGpuEnabled": true,
   "isInternetEnabled": true,
   "language": "python",
   "sourceType": "notebook"
  },
  "kernelspec": {
   "display_name": "Python 3",
   "language": "python",
   "name": "python3"
  },
  "language_info": {
   "codemirror_mode": {
    "name": "ipython",
    "version": 3
   },
   "file_extension": ".py",
   "mimetype": "text/x-python",
   "name": "python",
   "nbconvert_exporter": "python",
   "pygments_lexer": "ipython3",
   "version": "3.7.12"
  },
  "papermill": {
   "default_parameters": {},
   "duration": 6103.854159,
   "end_time": "2024-06-10T14:24:39.500223",
   "environment_variables": {},
   "exception": null,
   "input_path": "__notebook__.ipynb",
   "output_path": "__notebook__.ipynb",
   "parameters": {},
   "start_time": "2024-06-10T12:42:55.646064",
   "version": "2.3.3"
  }
 },
 "nbformat": 4,
 "nbformat_minor": 5
}
